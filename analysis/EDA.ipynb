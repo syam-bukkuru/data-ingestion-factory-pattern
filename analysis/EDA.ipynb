{
 "cells": [
  {
   "cell_type": "code",
   "execution_count": null,
   "id": "3db63a6a",
   "metadata": {
    "vscode": {
     "languageId": "plaintext"
    }
   },
   "outputs": [],
   "source": [
    "import pandas as pd\n",
    "import numpy as np\n",
    "\n",
    "from analyze_src.basic_data_inspection import DataInspector, DataTypesInspectionStrategy, SummaryStatisticsInspectionStrategy\n",
    "from analyze_src.missing_values_analysis import SimpleMissingValuesAnalysis\n",
    "from analyze_src.univariate_analysis import UnivariateAnalyzer, NumericalUnivariateAnalysis, CategoricalUnivariateAnalysis\n",
    "from analyze_src.bivariate_analysis import BivariateAnalyzer, NumericalVsNumericalAnalysis, CategoricalVsNumericalAnalysis\n",
    "from analyze_src.multivariate_analysis import SimpleMultivariateAnalysis\n",
    "\n",
    "# Set display options for better readability\n",
    "pd.set_option('display.max_columns', None)\n",
    "pd.set_option('display.max_rows', 100)"
   ]
  },
  {
   "cell_type": "code",
   "execution_count": null,
   "id": "43345921",
   "metadata": {
    "vscode": {
     "languageId": "plaintext"
    }
   },
   "outputs": [],
   "source": [
    "# Load the data\n",
    "# Assuming you have already extracted the data into the 'extracted-data' folder\n",
    "\n",
    "data_path = '../extracted_data/AmesHousing.csv'\n",
    "df = pd.read_csv(data_path)"
   ]
  },
  {
   "cell_type": "code",
   "execution_count": null,
   "id": "e4ae4fba",
   "metadata": {
    "vscode": {
     "languageId": "plaintext"
    }
   },
   "outputs": [],
   "source": [
    "# Step 1: Basic Data Inspection\n",
    "# ------------------------------------\n",
    "# Initialize the Data Inspector with a strategy for Data Types Inspection\n",
    "data_inspector = DataInspector(DataTypesInspectionStrategy())\n",
    "data_inspector.execute_inspection(df)"
   ]
  },
  {
   "cell_type": "code",
   "execution_count": null,
   "id": "d8fb52cd",
   "metadata": {
    "vscode": {
     "languageId": "plaintext"
    }
   },
   "outputs": [],
   "source": [
    "# Switch strategy to Summary Statistics Inspection\n",
    "data_inspector.set_strategy(SummaryStatisticsInspectionStrategy())\n",
    "data_inspector.execute_inspection(df)"
   ]
  },
  {
   "cell_type": "code",
   "execution_count": null,
   "id": "7a4387ff",
   "metadata": {
    "vscode": {
     "languageId": "plaintext"
    }
   },
   "outputs": [],
   "source": [
    "# Step 2: Missing Values Analysis\n",
    "# ------------------------------------\n",
    "# Perform Missing Values Analysis\n",
    "missing_values_analyzer = SimpleMissingValuesAnalysis()\n",
    "missing_values_analyzer.analyze(df)"
   ]
  },
  {
   "cell_type": "code",
   "execution_count": null,
   "id": "70e45ba4",
   "metadata": {
    "vscode": {
     "languageId": "plaintext"
    }
   },
   "outputs": [],
   "source": [
    "# Step 3: Univariate Analysis\n",
    "# -----------------------------------\n",
    "# Analyzing a Numerical Feature\n",
    "univariate_analyzer = UnivariateAnalyzer(NumericalUnivariateAnalysis())\n",
    "univariate_analyzer.execute_analysis(df, 'SalePrice')"
   ]
  },
  {
   "cell_type": "code",
   "execution_count": null,
   "id": "22cb7ba1",
   "metadata": {
    "vscode": {
     "languageId": "plaintext"
    }
   },
   "outputs": [],
   "source": [
    "# Analyzing a Categorical Feature\n",
    "univariate_analyzer.set_strategy(CategoricalUnivariateAnalysis())\n",
    "univariate_analyzer.execute_analysis(df, 'Neighborhood')\n"
   ]
  },
  {
   "cell_type": "code",
   "execution_count": null,
   "id": "f11f4306",
   "metadata": {
    "vscode": {
     "languageId": "plaintext"
    }
   },
   "outputs": [],
   "source": [
    "# Step 4: Bivariate Analysis\n",
    "# -----------------------------------\n",
    "# Analyzing the Relationship Between Two Numerical Features\n",
    "bivariate_analyzer = BivariateAnalyzer(NumericalVsNumericalAnalysis())\n",
    "bivariate_analyzer.execute_analysis(df, 'Gr Liv Area', 'SalePrice')\n"
   ]
  },
  {
   "cell_type": "code",
   "execution_count": null,
   "id": "402a6090",
   "metadata": {
    "vscode": {
     "languageId": "plaintext"
    }
   },
   "outputs": [],
   "source": [
    "# Analyzing the Relationship Between a Categorical and a Numerical Feature\n",
    "bivariate_analyzer.set_strategy(CategoricalVsNumericalAnalysis())\n",
    "bivariate_analyzer.execute_analysis(df, 'Overall Qual', 'SalePrice')"
   ]
  },
  {
   "cell_type": "code",
   "execution_count": null,
   "id": "d38891ac",
   "metadata": {
    "vscode": {
     "languageId": "plaintext"
    }
   },
   "outputs": [],
   "source": [
    "\n",
    "# Step 5: Multivariate Analysis\n",
    "# ------------------------------\n",
    "# Perform Multivariate Analysis\n",
    "\n",
    "# Initialize the MultivariateAnalyzer with the SimpleMultivariateAnalysis strategy\n",
    "multivariate_analyzer = SimpleMultivariateAnalysis()\n",
    "\n",
    "# Select important features for the analysis\n",
    "selected_features = df[['SalePrice', 'Gr Liv Area', 'Overall Qual', 'Total Bsmt SF', 'Year Built']]\n",
    "\n",
    "# Execute the multivariate analysis\n",
    "multivariate_analyzer.analyze(selected_features)\n"
   ]
  }
 ],
 "metadata": {
  "language_info": {
   "name": "python"
  }
 },
 "nbformat": 4,
 "nbformat_minor": 5
}
